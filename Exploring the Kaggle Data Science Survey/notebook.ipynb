{
 "cells": [
  {
   "cell_type": "markdown",
   "metadata": {
    "dc": {
     "key": "4"
    },
    "deletable": false,
    "editable": false,
    "run_control": {
     "frozen": true
    },
    "tags": [
     "context"
    ]
   },
   "source": [
    "## 1. Welcome to the world of data science\n",
    "<p>Throughout the world of data science, there are many languages and tools that can be used to complete a given task. While you are often able to use whichever tool you prefer, it is often important for analysts to work with similar platforms so that they can share their code with one another. Learning what professionals in the data science industry use while at work can help you gain a better understanding of things that you may be asked to do in the future. </p>\n",
    "<p>In this project, we are going to find out what tools and languages professionals use in their day-to-day work. Our data comes from the <a href=\"https://www.kaggle.com/kaggle/kaggle-survey-2017?utm_medium=partner&utm_source=datacamp.com&utm_campaign=ml+survey+case+study\">Kaggle Data Science Survey</a> which includes responses from over 10,000 people that write code to analyze data in their daily work. </p>"
   ]
  },
  {
   "cell_type": "code",
   "execution_count": 29,
   "metadata": {
    "dc": {
     "key": "4"
    },
    "tags": [
     "sample_code"
    ]
   },
   "outputs": [
    {
     "name": "stderr",
     "output_type": "stream",
     "text": [
      "Parsed with column specification:\n",
      "cols(\n",
      "  Respondent = \u001b[32mcol_double()\u001b[39m,\n",
      "  WorkToolsSelect = \u001b[31mcol_character()\u001b[39m,\n",
      "  LanguageRecommendationSelect = \u001b[31mcol_character()\u001b[39m,\n",
      "  EmployerIndustry = \u001b[31mcol_character()\u001b[39m,\n",
      "  WorkAlgorithmsSelect = \u001b[31mcol_character()\u001b[39m\n",
      ")\n"
     ]
    },
    {
     "data": {
      "text/html": [
       "<table>\n",
       "<caption>A tibble: 10 x 5</caption>\n",
       "<thead>\n",
       "\t<tr><th scope=col>Respondent</th><th scope=col>WorkToolsSelect</th><th scope=col>LanguageRecommendationSelect</th><th scope=col>EmployerIndustry</th><th scope=col>WorkAlgorithmsSelect</th></tr>\n",
       "\t<tr><th scope=col>&lt;dbl&gt;</th><th scope=col>&lt;chr&gt;</th><th scope=col>&lt;chr&gt;</th><th scope=col>&lt;chr&gt;</th><th scope=col>&lt;chr&gt;</th></tr>\n",
       "</thead>\n",
       "<tbody>\n",
       "\t<tr><td> 1</td><td>Amazon Web services,Oracle Data Mining/ Oracle R Enterprise,Perl                                                                                                                                                   </td><td>F#    </td><td>Internet-based</td><td>Neural Networks,Random Forests,RNNs                                                                                            </td></tr>\n",
       "\t<tr><td> 2</td><td>Amazon Machine Learning,Amazon Web services,Cloudera,Hadoop/Hive/Pig,Impala,Java,Mathematica,MATLAB/Octave,Microsoft Excel Data Mining,Microsoft SQL Server Data Mining,NoSQL,Python,R,SAS Base,SAS JMP,SQL,Tableau</td><td>Python</td><td>Mix of fields </td><td>Bayesian Techniques,Decision Trees,Random Forests,Regression/Logistic Regression                                               </td></tr>\n",
       "\t<tr><td> 3</td><td>C/C++,Jupyter notebooks,MATLAB/Octave,Python,R,TensorFlow                                                                                                                                                          </td><td>Python</td><td>Technology    </td><td>Bayesian Techniques,CNNs,Ensemble Methods,Neural Networks,Regression/Logistic Regression,SVMs                                  </td></tr>\n",
       "\t<tr><td> 4</td><td>Jupyter notebooks,Python,SQL,TensorFlow                                                                                                                                                                            </td><td>Python</td><td>Academic      </td><td>Bayesian Techniques,CNNs,Decision Trees,Gradient Boosted Machines,Neural Networks,Random Forests,Regression/Logistic Regression</td></tr>\n",
       "\t<tr><td> 5</td><td>C/C++,Cloudera,Hadoop/Hive/Pig,Java,NoSQL,R,Unix shell / awk                                                                                                                                                       </td><td>R     </td><td>Government    </td><td>NA                                                                                                                             </td></tr>\n",
       "\t<tr><td> 6</td><td>SQL                                                                                                                                                                                                                </td><td>Python</td><td>Non-profit    </td><td>NA                                                                                                                             </td></tr>\n",
       "\t<tr><td> 7</td><td>Jupyter notebooks,NoSQL,Python,R,SQL,Unix shell / awk                                                                                                                                                              </td><td>Python</td><td>Internet-based</td><td>CNNs,Decision Trees,Gradient Boosted Machines,Random Forests,Regression/Logistic Regression,SVMs                               </td></tr>\n",
       "\t<tr><td> 8</td><td>Python,Spark / MLlib,Tableau,TensorFlow,Other                                                                                                                                                                      </td><td>Python</td><td>Mix of fields </td><td>Bayesian Techniques,CNNs,HMMs,Neural Networks,Random Forests,Regression/Logistic Regression,SVMs                               </td></tr>\n",
       "\t<tr><td> 9</td><td>Jupyter notebooks,MATLAB/Octave,Python,SAS Base,SQL                                                                                                                                                                </td><td>Python</td><td>Financial     </td><td>Ensemble Methods,Gradient Boosted Machines                                                                                     </td></tr>\n",
       "\t<tr><td>10</td><td>C/C++,IBM Cognos,MATLAB/Octave,Microsoft Excel Data Mining,Microsoft R Server (Formerly Revolution Analytics),Microsoft SQL Server Data Mining,Perl,Python,R,SQL,Unix shell / awk                                  </td><td>R     </td><td>Technology    </td><td>Bayesian Techniques,Regression/Logistic Regression                                                                             </td></tr>\n",
       "</tbody>\n",
       "</table>\n"
      ],
      "text/latex": [
       "A tibble: 10 x 5\n",
       "\\begin{tabular}{r|lllll}\n",
       " Respondent & WorkToolsSelect & LanguageRecommendationSelect & EmployerIndustry & WorkAlgorithmsSelect\\\\\n",
       " <dbl> & <chr> & <chr> & <chr> & <chr>\\\\\n",
       "\\hline\n",
       "\t  1 & Amazon Web services,Oracle Data Mining/ Oracle R Enterprise,Perl                                                                                                                                                    & F\\#     & Internet-based & Neural Networks,Random Forests,RNNs                                                                                            \\\\\n",
       "\t  2 & Amazon Machine Learning,Amazon Web services,Cloudera,Hadoop/Hive/Pig,Impala,Java,Mathematica,MATLAB/Octave,Microsoft Excel Data Mining,Microsoft SQL Server Data Mining,NoSQL,Python,R,SAS Base,SAS JMP,SQL,Tableau & Python & Mix of fields  & Bayesian Techniques,Decision Trees,Random Forests,Regression/Logistic Regression                                               \\\\\n",
       "\t  3 & C/C++,Jupyter notebooks,MATLAB/Octave,Python,R,TensorFlow                                                                                                                                                           & Python & Technology     & Bayesian Techniques,CNNs,Ensemble Methods,Neural Networks,Regression/Logistic Regression,SVMs                                  \\\\\n",
       "\t  4 & Jupyter notebooks,Python,SQL,TensorFlow                                                                                                                                                                             & Python & Academic       & Bayesian Techniques,CNNs,Decision Trees,Gradient Boosted Machines,Neural Networks,Random Forests,Regression/Logistic Regression\\\\\n",
       "\t  5 & C/C++,Cloudera,Hadoop/Hive/Pig,Java,NoSQL,R,Unix shell / awk                                                                                                                                                        & R      & Government     & NA                                                                                                                             \\\\\n",
       "\t  6 & SQL                                                                                                                                                                                                                 & Python & Non-profit     & NA                                                                                                                             \\\\\n",
       "\t  7 & Jupyter notebooks,NoSQL,Python,R,SQL,Unix shell / awk                                                                                                                                                               & Python & Internet-based & CNNs,Decision Trees,Gradient Boosted Machines,Random Forests,Regression/Logistic Regression,SVMs                               \\\\\n",
       "\t  8 & Python,Spark / MLlib,Tableau,TensorFlow,Other                                                                                                                                                                       & Python & Mix of fields  & Bayesian Techniques,CNNs,HMMs,Neural Networks,Random Forests,Regression/Logistic Regression,SVMs                               \\\\\n",
       "\t  9 & Jupyter notebooks,MATLAB/Octave,Python,SAS Base,SQL                                                                                                                                                                 & Python & Financial      & Ensemble Methods,Gradient Boosted Machines                                                                                     \\\\\n",
       "\t 10 & C/C++,IBM Cognos,MATLAB/Octave,Microsoft Excel Data Mining,Microsoft R Server (Formerly Revolution Analytics),Microsoft SQL Server Data Mining,Perl,Python,R,SQL,Unix shell / awk                                   & R      & Technology     & Bayesian Techniques,Regression/Logistic Regression                                                                             \\\\\n",
       "\\end{tabular}\n"
      ],
      "text/markdown": [
       "\n",
       "A tibble: 10 x 5\n",
       "\n",
       "| Respondent &lt;dbl&gt; | WorkToolsSelect &lt;chr&gt; | LanguageRecommendationSelect &lt;chr&gt; | EmployerIndustry &lt;chr&gt; | WorkAlgorithmsSelect &lt;chr&gt; |\n",
       "|---|---|---|---|---|\n",
       "|  1 | Amazon Web services,Oracle Data Mining/ Oracle R Enterprise,Perl                                                                                                                                                    | F#     | Internet-based | Neural Networks,Random Forests,RNNs                                                                                             |\n",
       "|  2 | Amazon Machine Learning,Amazon Web services,Cloudera,Hadoop/Hive/Pig,Impala,Java,Mathematica,MATLAB/Octave,Microsoft Excel Data Mining,Microsoft SQL Server Data Mining,NoSQL,Python,R,SAS Base,SAS JMP,SQL,Tableau | Python | Mix of fields  | Bayesian Techniques,Decision Trees,Random Forests,Regression/Logistic Regression                                                |\n",
       "|  3 | C/C++,Jupyter notebooks,MATLAB/Octave,Python,R,TensorFlow                                                                                                                                                           | Python | Technology     | Bayesian Techniques,CNNs,Ensemble Methods,Neural Networks,Regression/Logistic Regression,SVMs                                   |\n",
       "|  4 | Jupyter notebooks,Python,SQL,TensorFlow                                                                                                                                                                             | Python | Academic       | Bayesian Techniques,CNNs,Decision Trees,Gradient Boosted Machines,Neural Networks,Random Forests,Regression/Logistic Regression |\n",
       "|  5 | C/C++,Cloudera,Hadoop/Hive/Pig,Java,NoSQL,R,Unix shell / awk                                                                                                                                                        | R      | Government     | NA                                                                                                                              |\n",
       "|  6 | SQL                                                                                                                                                                                                                 | Python | Non-profit     | NA                                                                                                                              |\n",
       "|  7 | Jupyter notebooks,NoSQL,Python,R,SQL,Unix shell / awk                                                                                                                                                               | Python | Internet-based | CNNs,Decision Trees,Gradient Boosted Machines,Random Forests,Regression/Logistic Regression,SVMs                                |\n",
       "|  8 | Python,Spark / MLlib,Tableau,TensorFlow,Other                                                                                                                                                                       | Python | Mix of fields  | Bayesian Techniques,CNNs,HMMs,Neural Networks,Random Forests,Regression/Logistic Regression,SVMs                                |\n",
       "|  9 | Jupyter notebooks,MATLAB/Octave,Python,SAS Base,SQL                                                                                                                                                                 | Python | Financial      | Ensemble Methods,Gradient Boosted Machines                                                                                      |\n",
       "| 10 | C/C++,IBM Cognos,MATLAB/Octave,Microsoft Excel Data Mining,Microsoft R Server (Formerly Revolution Analytics),Microsoft SQL Server Data Mining,Perl,Python,R,SQL,Unix shell / awk                                   | R      | Technology     | Bayesian Techniques,Regression/Logistic Regression                                                                              |\n",
       "\n"
      ],
      "text/plain": [
       "   Respondent\n",
       "1   1        \n",
       "2   2        \n",
       "3   3        \n",
       "4   4        \n",
       "5   5        \n",
       "6   6        \n",
       "7   7        \n",
       "8   8        \n",
       "9   9        \n",
       "10 10        \n",
       "   WorkToolsSelect                                                                                                                                                                                                    \n",
       "1  Amazon Web services,Oracle Data Mining/ Oracle R Enterprise,Perl                                                                                                                                                   \n",
       "2  Amazon Machine Learning,Amazon Web services,Cloudera,Hadoop/Hive/Pig,Impala,Java,Mathematica,MATLAB/Octave,Microsoft Excel Data Mining,Microsoft SQL Server Data Mining,NoSQL,Python,R,SAS Base,SAS JMP,SQL,Tableau\n",
       "3  C/C++,Jupyter notebooks,MATLAB/Octave,Python,R,TensorFlow                                                                                                                                                          \n",
       "4  Jupyter notebooks,Python,SQL,TensorFlow                                                                                                                                                                            \n",
       "5  C/C++,Cloudera,Hadoop/Hive/Pig,Java,NoSQL,R,Unix shell / awk                                                                                                                                                       \n",
       "6  SQL                                                                                                                                                                                                                \n",
       "7  Jupyter notebooks,NoSQL,Python,R,SQL,Unix shell / awk                                                                                                                                                              \n",
       "8  Python,Spark / MLlib,Tableau,TensorFlow,Other                                                                                                                                                                      \n",
       "9  Jupyter notebooks,MATLAB/Octave,Python,SAS Base,SQL                                                                                                                                                                \n",
       "10 C/C++,IBM Cognos,MATLAB/Octave,Microsoft Excel Data Mining,Microsoft R Server (Formerly Revolution Analytics),Microsoft SQL Server Data Mining,Perl,Python,R,SQL,Unix shell / awk                                  \n",
       "   LanguageRecommendationSelect EmployerIndustry\n",
       "1  F#                           Internet-based  \n",
       "2  Python                       Mix of fields   \n",
       "3  Python                       Technology      \n",
       "4  Python                       Academic        \n",
       "5  R                            Government      \n",
       "6  Python                       Non-profit      \n",
       "7  Python                       Internet-based  \n",
       "8  Python                       Mix of fields   \n",
       "9  Python                       Financial       \n",
       "10 R                            Technology      \n",
       "   WorkAlgorithmsSelect                                                                                                           \n",
       "1  Neural Networks,Random Forests,RNNs                                                                                            \n",
       "2  Bayesian Techniques,Decision Trees,Random Forests,Regression/Logistic Regression                                               \n",
       "3  Bayesian Techniques,CNNs,Ensemble Methods,Neural Networks,Regression/Logistic Regression,SVMs                                  \n",
       "4  Bayesian Techniques,CNNs,Decision Trees,Gradient Boosted Machines,Neural Networks,Random Forests,Regression/Logistic Regression\n",
       "5  NA                                                                                                                             \n",
       "6  NA                                                                                                                             \n",
       "7  CNNs,Decision Trees,Gradient Boosted Machines,Random Forests,Regression/Logistic Regression,SVMs                               \n",
       "8  Bayesian Techniques,CNNs,HMMs,Neural Networks,Random Forests,Regression/Logistic Regression,SVMs                               \n",
       "9  Ensemble Methods,Gradient Boosted Machines                                                                                     \n",
       "10 Bayesian Techniques,Regression/Logistic Regression                                                                             "
      ]
     },
     "metadata": {},
     "output_type": "display_data"
    }
   ],
   "source": [
    "# Load necessary packages\n",
    "library(tidyverse)\n",
    "\n",
    "# Load the data\n",
    "responses <- read_csv(\"datasets/kagglesurvey.csv\")\n",
    "\n",
    "# Print the first 10 rows\n",
    "head(responses, 10)"
   ]
  },
  {
   "cell_type": "markdown",
   "metadata": {
    "dc": {
     "key": "12"
    },
    "deletable": false,
    "editable": false,
    "run_control": {
     "frozen": true
    },
    "tags": [
     "context"
    ]
   },
   "source": [
    "## 2. Using multiple tools\n",
    "<p>Now that we have loaded in the survey results, we want to focus on the tools and languages that the survey respondents use at work.</p>\n",
    "<p>To get a better idea of how the data are formatted, we will look at the first respondent's tool-use and see that this survey-taker listed multiple tools that are each separated by a comma. To learn how many people use each tool, we need to separate out all of the tools used by each individual. There are several ways to complete this task, but we will use <code>str_split()</code> from <code>stringr</code> to separate the tools at each comma. Since that will create a list inside of the data frame, we can use the <code>tidyr</code> function <code>unnest()</code> to separate each list item into a new row.</p>"
   ]
  },
  {
   "cell_type": "code",
   "execution_count": 31,
   "metadata": {
    "dc": {
     "key": "12"
    },
    "tags": [
     "sample_code"
    ]
   },
   "outputs": [
    {
     "data": {
      "text/html": [
       "<table>\n",
       "<caption>A tibble: 1 x 1</caption>\n",
       "<thead>\n",
       "\t<tr><th scope=col>WorkToolsSelect</th></tr>\n",
       "\t<tr><th scope=col>&lt;chr&gt;</th></tr>\n",
       "</thead>\n",
       "<tbody>\n",
       "\t<tr><td>Amazon Web services,Oracle Data Mining/ Oracle R Enterprise,Perl</td></tr>\n",
       "</tbody>\n",
       "</table>\n"
      ],
      "text/latex": [
       "A tibble: 1 x 1\n",
       "\\begin{tabular}{r|l}\n",
       " WorkToolsSelect\\\\\n",
       " <chr>\\\\\n",
       "\\hline\n",
       "\t Amazon Web services,Oracle Data Mining/ Oracle R Enterprise,Perl\\\\\n",
       "\\end{tabular}\n"
      ],
      "text/markdown": [
       "\n",
       "A tibble: 1 x 1\n",
       "\n",
       "| WorkToolsSelect &lt;chr&gt; |\n",
       "|---|\n",
       "| Amazon Web services,Oracle Data Mining/ Oracle R Enterprise,Perl |\n",
       "\n"
      ],
      "text/plain": [
       "  WorkToolsSelect                                                 \n",
       "1 Amazon Web services,Oracle Data Mining/ Oracle R Enterprise,Perl"
      ]
     },
     "metadata": {},
     "output_type": "display_data"
    },
    {
     "data": {
      "text/html": [
       "<table>\n",
       "<caption>A tibble: 6 x 6</caption>\n",
       "<thead>\n",
       "\t<tr><th scope=col>Respondent</th><th scope=col>WorkToolsSelect</th><th scope=col>LanguageRecommendationSelect</th><th scope=col>EmployerIndustry</th><th scope=col>WorkAlgorithmsSelect</th><th scope=col>work_tools</th></tr>\n",
       "\t<tr><th scope=col>&lt;dbl&gt;</th><th scope=col>&lt;chr&gt;</th><th scope=col>&lt;chr&gt;</th><th scope=col>&lt;chr&gt;</th><th scope=col>&lt;chr&gt;</th><th scope=col>&lt;chr&gt;</th></tr>\n",
       "</thead>\n",
       "<tbody>\n",
       "\t<tr><td>1</td><td>Amazon Web services,Oracle Data Mining/ Oracle R Enterprise,Perl                                                                                                                                                   </td><td>F#    </td><td>Internet-based</td><td>Neural Networks,Random Forests,RNNs                                             </td><td>Amazon Web services                    </td></tr>\n",
       "\t<tr><td>1</td><td>Amazon Web services,Oracle Data Mining/ Oracle R Enterprise,Perl                                                                                                                                                   </td><td>F#    </td><td>Internet-based</td><td>Neural Networks,Random Forests,RNNs                                             </td><td>Oracle Data Mining/ Oracle R Enterprise</td></tr>\n",
       "\t<tr><td>1</td><td>Amazon Web services,Oracle Data Mining/ Oracle R Enterprise,Perl                                                                                                                                                   </td><td>F#    </td><td>Internet-based</td><td>Neural Networks,Random Forests,RNNs                                             </td><td>Perl                                   </td></tr>\n",
       "\t<tr><td>2</td><td>Amazon Machine Learning,Amazon Web services,Cloudera,Hadoop/Hive/Pig,Impala,Java,Mathematica,MATLAB/Octave,Microsoft Excel Data Mining,Microsoft SQL Server Data Mining,NoSQL,Python,R,SAS Base,SAS JMP,SQL,Tableau</td><td>Python</td><td>Mix of fields </td><td>Bayesian Techniques,Decision Trees,Random Forests,Regression/Logistic Regression</td><td>Amazon Machine Learning                </td></tr>\n",
       "\t<tr><td>2</td><td>Amazon Machine Learning,Amazon Web services,Cloudera,Hadoop/Hive/Pig,Impala,Java,Mathematica,MATLAB/Octave,Microsoft Excel Data Mining,Microsoft SQL Server Data Mining,NoSQL,Python,R,SAS Base,SAS JMP,SQL,Tableau</td><td>Python</td><td>Mix of fields </td><td>Bayesian Techniques,Decision Trees,Random Forests,Regression/Logistic Regression</td><td>Amazon Web services                    </td></tr>\n",
       "\t<tr><td>2</td><td>Amazon Machine Learning,Amazon Web services,Cloudera,Hadoop/Hive/Pig,Impala,Java,Mathematica,MATLAB/Octave,Microsoft Excel Data Mining,Microsoft SQL Server Data Mining,NoSQL,Python,R,SAS Base,SAS JMP,SQL,Tableau</td><td>Python</td><td>Mix of fields </td><td>Bayesian Techniques,Decision Trees,Random Forests,Regression/Logistic Regression</td><td>Cloudera                               </td></tr>\n",
       "</tbody>\n",
       "</table>\n"
      ],
      "text/latex": [
       "A tibble: 6 x 6\n",
       "\\begin{tabular}{r|llllll}\n",
       " Respondent & WorkToolsSelect & LanguageRecommendationSelect & EmployerIndustry & WorkAlgorithmsSelect & work\\_tools\\\\\n",
       " <dbl> & <chr> & <chr> & <chr> & <chr> & <chr>\\\\\n",
       "\\hline\n",
       "\t 1 & Amazon Web services,Oracle Data Mining/ Oracle R Enterprise,Perl                                                                                                                                                    & F\\#     & Internet-based & Neural Networks,Random Forests,RNNs                                              & Amazon Web services                    \\\\\n",
       "\t 1 & Amazon Web services,Oracle Data Mining/ Oracle R Enterprise,Perl                                                                                                                                                    & F\\#     & Internet-based & Neural Networks,Random Forests,RNNs                                              & Oracle Data Mining/ Oracle R Enterprise\\\\\n",
       "\t 1 & Amazon Web services,Oracle Data Mining/ Oracle R Enterprise,Perl                                                                                                                                                    & F\\#     & Internet-based & Neural Networks,Random Forests,RNNs                                              & Perl                                   \\\\\n",
       "\t 2 & Amazon Machine Learning,Amazon Web services,Cloudera,Hadoop/Hive/Pig,Impala,Java,Mathematica,MATLAB/Octave,Microsoft Excel Data Mining,Microsoft SQL Server Data Mining,NoSQL,Python,R,SAS Base,SAS JMP,SQL,Tableau & Python & Mix of fields  & Bayesian Techniques,Decision Trees,Random Forests,Regression/Logistic Regression & Amazon Machine Learning                \\\\\n",
       "\t 2 & Amazon Machine Learning,Amazon Web services,Cloudera,Hadoop/Hive/Pig,Impala,Java,Mathematica,MATLAB/Octave,Microsoft Excel Data Mining,Microsoft SQL Server Data Mining,NoSQL,Python,R,SAS Base,SAS JMP,SQL,Tableau & Python & Mix of fields  & Bayesian Techniques,Decision Trees,Random Forests,Regression/Logistic Regression & Amazon Web services                    \\\\\n",
       "\t 2 & Amazon Machine Learning,Amazon Web services,Cloudera,Hadoop/Hive/Pig,Impala,Java,Mathematica,MATLAB/Octave,Microsoft Excel Data Mining,Microsoft SQL Server Data Mining,NoSQL,Python,R,SAS Base,SAS JMP,SQL,Tableau & Python & Mix of fields  & Bayesian Techniques,Decision Trees,Random Forests,Regression/Logistic Regression & Cloudera                               \\\\\n",
       "\\end{tabular}\n"
      ],
      "text/markdown": [
       "\n",
       "A tibble: 6 x 6\n",
       "\n",
       "| Respondent &lt;dbl&gt; | WorkToolsSelect &lt;chr&gt; | LanguageRecommendationSelect &lt;chr&gt; | EmployerIndustry &lt;chr&gt; | WorkAlgorithmsSelect &lt;chr&gt; | work_tools &lt;chr&gt; |\n",
       "|---|---|---|---|---|---|\n",
       "| 1 | Amazon Web services,Oracle Data Mining/ Oracle R Enterprise,Perl                                                                                                                                                    | F#     | Internet-based | Neural Networks,Random Forests,RNNs                                              | Amazon Web services                     |\n",
       "| 1 | Amazon Web services,Oracle Data Mining/ Oracle R Enterprise,Perl                                                                                                                                                    | F#     | Internet-based | Neural Networks,Random Forests,RNNs                                              | Oracle Data Mining/ Oracle R Enterprise |\n",
       "| 1 | Amazon Web services,Oracle Data Mining/ Oracle R Enterprise,Perl                                                                                                                                                    | F#     | Internet-based | Neural Networks,Random Forests,RNNs                                              | Perl                                    |\n",
       "| 2 | Amazon Machine Learning,Amazon Web services,Cloudera,Hadoop/Hive/Pig,Impala,Java,Mathematica,MATLAB/Octave,Microsoft Excel Data Mining,Microsoft SQL Server Data Mining,NoSQL,Python,R,SAS Base,SAS JMP,SQL,Tableau | Python | Mix of fields  | Bayesian Techniques,Decision Trees,Random Forests,Regression/Logistic Regression | Amazon Machine Learning                 |\n",
       "| 2 | Amazon Machine Learning,Amazon Web services,Cloudera,Hadoop/Hive/Pig,Impala,Java,Mathematica,MATLAB/Octave,Microsoft Excel Data Mining,Microsoft SQL Server Data Mining,NoSQL,Python,R,SAS Base,SAS JMP,SQL,Tableau | Python | Mix of fields  | Bayesian Techniques,Decision Trees,Random Forests,Regression/Logistic Regression | Amazon Web services                     |\n",
       "| 2 | Amazon Machine Learning,Amazon Web services,Cloudera,Hadoop/Hive/Pig,Impala,Java,Mathematica,MATLAB/Octave,Microsoft Excel Data Mining,Microsoft SQL Server Data Mining,NoSQL,Python,R,SAS Base,SAS JMP,SQL,Tableau | Python | Mix of fields  | Bayesian Techniques,Decision Trees,Random Forests,Regression/Logistic Regression | Cloudera                                |\n",
       "\n"
      ],
      "text/plain": [
       "  Respondent\n",
       "1 1         \n",
       "2 1         \n",
       "3 1         \n",
       "4 2         \n",
       "5 2         \n",
       "6 2         \n",
       "  WorkToolsSelect                                                                                                                                                                                                    \n",
       "1 Amazon Web services,Oracle Data Mining/ Oracle R Enterprise,Perl                                                                                                                                                   \n",
       "2 Amazon Web services,Oracle Data Mining/ Oracle R Enterprise,Perl                                                                                                                                                   \n",
       "3 Amazon Web services,Oracle Data Mining/ Oracle R Enterprise,Perl                                                                                                                                                   \n",
       "4 Amazon Machine Learning,Amazon Web services,Cloudera,Hadoop/Hive/Pig,Impala,Java,Mathematica,MATLAB/Octave,Microsoft Excel Data Mining,Microsoft SQL Server Data Mining,NoSQL,Python,R,SAS Base,SAS JMP,SQL,Tableau\n",
       "5 Amazon Machine Learning,Amazon Web services,Cloudera,Hadoop/Hive/Pig,Impala,Java,Mathematica,MATLAB/Octave,Microsoft Excel Data Mining,Microsoft SQL Server Data Mining,NoSQL,Python,R,SAS Base,SAS JMP,SQL,Tableau\n",
       "6 Amazon Machine Learning,Amazon Web services,Cloudera,Hadoop/Hive/Pig,Impala,Java,Mathematica,MATLAB/Octave,Microsoft Excel Data Mining,Microsoft SQL Server Data Mining,NoSQL,Python,R,SAS Base,SAS JMP,SQL,Tableau\n",
       "  LanguageRecommendationSelect EmployerIndustry\n",
       "1 F#                           Internet-based  \n",
       "2 F#                           Internet-based  \n",
       "3 F#                           Internet-based  \n",
       "4 Python                       Mix of fields   \n",
       "5 Python                       Mix of fields   \n",
       "6 Python                       Mix of fields   \n",
       "  WorkAlgorithmsSelect                                                            \n",
       "1 Neural Networks,Random Forests,RNNs                                             \n",
       "2 Neural Networks,Random Forests,RNNs                                             \n",
       "3 Neural Networks,Random Forests,RNNs                                             \n",
       "4 Bayesian Techniques,Decision Trees,Random Forests,Regression/Logistic Regression\n",
       "5 Bayesian Techniques,Decision Trees,Random Forests,Regression/Logistic Regression\n",
       "6 Bayesian Techniques,Decision Trees,Random Forests,Regression/Logistic Regression\n",
       "  work_tools                             \n",
       "1 Amazon Web services                    \n",
       "2 Oracle Data Mining/ Oracle R Enterprise\n",
       "3 Perl                                   \n",
       "4 Amazon Machine Learning                \n",
       "5 Amazon Web services                    \n",
       "6 Cloudera                               "
      ]
     },
     "metadata": {},
     "output_type": "display_data"
    }
   ],
   "source": [
    "# Print the first respondent's tools and languages\n",
    "responses[1, 2]\n",
    "\n",
    "# Add a new column, and unnest the new column\n",
    "tools <- responses  %>% \n",
    "    mutate(work_tools = str_split(WorkToolsSelect, \",\"))  %>% \n",
    "    unnest(work_tools)\n",
    "\n",
    "# View the first 6 rows of tools\n",
    "head(tools, 6)"
   ]
  },
  {
   "cell_type": "markdown",
   "metadata": {
    "dc": {
     "key": "19"
    },
    "deletable": false,
    "editable": false,
    "run_control": {
     "frozen": true
    },
    "tags": [
     "context"
    ]
   },
   "source": [
    "## 3. Counting users of each tool\n",
    "<p>Now that we've split apart all of the tools used by each respondent, we can figure out which tools are the most popular.</p>"
   ]
  },
  {
   "cell_type": "code",
   "execution_count": 33,
   "metadata": {
    "dc": {
     "key": "19"
    },
    "tags": [
     "sample_code"
    ]
   },
   "outputs": [
    {
     "name": "stderr",
     "output_type": "stream",
     "text": [
      "`summarise()` ungrouping output (override with `.groups` argument)\n"
     ]
    },
    {
     "data": {
      "text/html": [
       "<table>\n",
       "<caption>A tibble: 6 x 2</caption>\n",
       "<thead>\n",
       "\t<tr><th scope=col>work_tools</th><th scope=col>count</th></tr>\n",
       "\t<tr><th scope=col>&lt;chr&gt;</th><th scope=col>&lt;int&gt;</th></tr>\n",
       "</thead>\n",
       "<tbody>\n",
       "\t<tr><td>Python           </td><td>6073</td></tr>\n",
       "\t<tr><td>R                </td><td>4708</td></tr>\n",
       "\t<tr><td>SQL              </td><td>4261</td></tr>\n",
       "\t<tr><td>Jupyter notebooks</td><td>3206</td></tr>\n",
       "\t<tr><td>TensorFlow       </td><td>2256</td></tr>\n",
       "\t<tr><td>NA               </td><td>2198</td></tr>\n",
       "</tbody>\n",
       "</table>\n"
      ],
      "text/latex": [
       "A tibble: 6 x 2\n",
       "\\begin{tabular}{r|ll}\n",
       " work\\_tools & count\\\\\n",
       " <chr> & <int>\\\\\n",
       "\\hline\n",
       "\t Python            & 6073\\\\\n",
       "\t R                 & 4708\\\\\n",
       "\t SQL               & 4261\\\\\n",
       "\t Jupyter notebooks & 3206\\\\\n",
       "\t TensorFlow        & 2256\\\\\n",
       "\t NA                & 2198\\\\\n",
       "\\end{tabular}\n"
      ],
      "text/markdown": [
       "\n",
       "A tibble: 6 x 2\n",
       "\n",
       "| work_tools &lt;chr&gt; | count &lt;int&gt; |\n",
       "|---|---|\n",
       "| Python            | 6073 |\n",
       "| R                 | 4708 |\n",
       "| SQL               | 4261 |\n",
       "| Jupyter notebooks | 3206 |\n",
       "| TensorFlow        | 2256 |\n",
       "| NA                | 2198 |\n",
       "\n"
      ],
      "text/plain": [
       "  work_tools        count\n",
       "1 Python            6073 \n",
       "2 R                 4708 \n",
       "3 SQL               4261 \n",
       "4 Jupyter notebooks 3206 \n",
       "5 TensorFlow        2256 \n",
       "6 NA                2198 "
      ]
     },
     "metadata": {},
     "output_type": "display_data"
    }
   ],
   "source": [
    "# Group the data by work_tools, summarise the counts, and arrange in descending order\n",
    "tool_count <- tools  %>% \n",
    "    group_by(work_tools)  %>% \n",
    "    summarise(count = n()) %>%\n",
    "    arrange(desc(count))\n",
    "\n",
    "# Print the first 6 results\n",
    "head(tool_count, 6)"
   ]
  },
  {
   "cell_type": "markdown",
   "metadata": {
    "dc": {
     "key": "26"
    },
    "deletable": false,
    "editable": false,
    "run_control": {
     "frozen": true
    },
    "tags": [
     "context"
    ]
   },
   "source": [
    "## 4. Plotting the most popular tools\n",
    "<p>Let's see how the most popular tools stack up against the rest.</p>"
   ]
  },
  {
   "cell_type": "code",
   "execution_count": 35,
   "metadata": {
    "dc": {
     "key": "26"
    },
    "tags": [
     "sample_code"
    ]
   },
   "outputs": [
    {
     "data": {
      "image/png": "[encoded data removed]",
      "text/plain": [
       "plot without title"
      ]
     },
     "metadata": {},
     "output_type": "display_data"
    }
   ],
   "source": [
    "# Create a bar chart of the work_tools column, most counts on the far right\n",
    "ggplot(tool_count, aes(fct_reorder(work_tools, count, .desc = TRUE), count)) +\n",
    "    geom_bar(stat = \"identity\") + \n",
    "    theme(axis.text.x = element_text(angle = 90))"
   ]
  },
  {
   "cell_type": "markdown",
   "metadata": {
    "dc": {
     "key": "33"
    },
    "deletable": false,
    "editable": false,
    "run_control": {
     "frozen": true
    },
    "tags": [
     "context"
    ]
   },
   "source": [
    "## 5. The R vs Python debate\n",
    "<p>Within the field of data science, there is a lot of debate among professionals about whether R or Python should reign supreme. You can see from our last figure that R and Python are the two most commonly used languages, but it's possible that many respondents use both R and Python. Let's take a look at how many people use R, Python, and both tools.</p>"
   ]
  },
  {
   "cell_type": "code",
   "execution_count": 50,
   "metadata": {
    "dc": {
     "key": "33"
    },
    "tags": [
     "sample_code"
    ]
   },
   "outputs": [
    {
     "data": {
      "text/html": [
       "<table>\n",
       "<caption>A tibble: 2860 x 2</caption>\n",
       "<thead>\n",
       "\t<tr><th scope=col>WorkToolsSelect</th><th scope=col>language_preference</th></tr>\n",
       "\t<tr><th scope=col>&lt;chr&gt;</th><th scope=col>&lt;chr&gt;</th></tr>\n",
       "</thead>\n",
       "<tbody>\n",
       "\t<tr><td>SQL                                                                                                                    </td><td>neither</td></tr>\n",
       "\t<tr><td>Amazon Web services,Java,Jupyter notebooks,MATLAB/Octave,Microsoft Excel Data Mining,SAS Enterprise Miner,Spark / MLlib</td><td>neither</td></tr>\n",
       "\t<tr><td>IBM Cognos,NoSQL,Unix shell / awk                                                                                      </td><td>neither</td></tr>\n",
       "\t<tr><td>NA                                                                                                                     </td><td>neither</td></tr>\n",
       "\t<tr><td>Amazon Machine Learning                                                                                                </td><td>neither</td></tr>\n",
       "\t<tr><td>IBM Cognos,IBM SPSS Modeler,IBM SPSS Statistics,Perl,SQL                                                               </td><td>neither</td></tr>\n",
       "\t<tr><td>SQL                                                                                                                    </td><td>neither</td></tr>\n",
       "\t<tr><td>NoSQL,Perl,SQL,Unix shell / awk,Other                                                                                  </td><td>neither</td></tr>\n",
       "\t<tr><td>Julia,Other                                                                                                            </td><td>neither</td></tr>\n",
       "\t<tr><td>Amazon Machine Learning,Amazon Web services,SQL                                                                        </td><td>neither</td></tr>\n",
       "\t<tr><td>Amazon Web services,Cloudera,SAS Base,SAS Enterprise Miner,SAS JMP,SQL,Other,Other                                     </td><td>neither</td></tr>\n",
       "\t<tr><td>KNIME (free version),Unix shell / awk                                                                                  </td><td>neither</td></tr>\n",
       "\t<tr><td>IBM SPSS Modeler,IBM SPSS Statistics,Java,Microsoft Excel Data Mining,SQL                                              </td><td>neither</td></tr>\n",
       "\t<tr><td>NA                                                                                                                     </td><td>neither</td></tr>\n",
       "\t<tr><td>Minitab                                                                                                                </td><td>neither</td></tr>\n",
       "\t<tr><td>Other                                                                                                                  </td><td>neither</td></tr>\n",
       "\t<tr><td>Jupyter notebooks,TensorFlow,Unix shell / awk                                                                          </td><td>neither</td></tr>\n",
       "\t<tr><td>Microsoft Excel Data Mining,SQL                                                                                        </td><td>neither</td></tr>\n",
       "\t<tr><td>Amazon Web services                                                                                                    </td><td>neither</td></tr>\n",
       "\t<tr><td>Microsoft Azure Machine Learning,Microsoft Excel Data Mining,SQL                                                       </td><td>neither</td></tr>\n",
       "\t<tr><td>Other                                                                                                                  </td><td>neither</td></tr>\n",
       "\t<tr><td>Hadoop/Hive/Pig,Jupyter notebooks,Microsoft SQL Server Data Mining,SAS Base,SAS Enterprise Miner,SQL,Tableau           </td><td>neither</td></tr>\n",
       "\t<tr><td>Microsoft Azure Machine Learning,NoSQL,SQL,Tableau                                                                     </td><td>neither</td></tr>\n",
       "\t<tr><td>Cloudera,Hadoop/Hive/Pig,Java,Spark / MLlib                                                                            </td><td>neither</td></tr>\n",
       "\t<tr><td>Google Cloud Compute                                                                                                   </td><td>neither</td></tr>\n",
       "\t<tr><td>SQL                                                                                                                    </td><td>neither</td></tr>\n",
       "\t<tr><td>Amazon Web services,Cloudera,MATLAB/Octave,NoSQL,SQL,TensorFlow                                                        </td><td>neither</td></tr>\n",
       "\t<tr><td>C/C++,MATLAB/Octave                                                                                                    </td><td>neither</td></tr>\n",
       "\t<tr><td>Java,MATLAB/Octave,SQL,Other,Other                                                                                     </td><td>neither</td></tr>\n",
       "\t<tr><td>SAS Base                                                                                                               </td><td>neither</td></tr>\n",
       "\t<tr><td>...</td><td>...</td></tr>\n",
       "\t<tr><td>NA                             </td><td>neither</td></tr>\n",
       "\t<tr><td>NA                             </td><td>neither</td></tr>\n",
       "\t<tr><td>NA                             </td><td>neither</td></tr>\n",
       "\t<tr><td>NA                             </td><td>neither</td></tr>\n",
       "\t<tr><td>NA                             </td><td>neither</td></tr>\n",
       "\t<tr><td>Microsoft Excel Data Mining,SQL</td><td>neither</td></tr>\n",
       "\t<tr><td>NA                             </td><td>neither</td></tr>\n",
       "\t<tr><td>NA                             </td><td>neither</td></tr>\n",
       "\t<tr><td>NA                             </td><td>neither</td></tr>\n",
       "\t<tr><td>NA                             </td><td>neither</td></tr>\n",
       "\t<tr><td>NA                             </td><td>neither</td></tr>\n",
       "\t<tr><td>IBM Cognos,IBM SPSS Modeler    </td><td>neither</td></tr>\n",
       "\t<tr><td>NA                             </td><td>neither</td></tr>\n",
       "\t<tr><td>NA                             </td><td>neither</td></tr>\n",
       "\t<tr><td>NA                             </td><td>neither</td></tr>\n",
       "\t<tr><td>NA                             </td><td>neither</td></tr>\n",
       "\t<tr><td>NA                             </td><td>neither</td></tr>\n",
       "\t<tr><td>NA                             </td><td>neither</td></tr>\n",
       "\t<tr><td>NA                             </td><td>neither</td></tr>\n",
       "\t<tr><td>NA                             </td><td>neither</td></tr>\n",
       "\t<tr><td>NA                             </td><td>neither</td></tr>\n",
       "\t<tr><td>NA                             </td><td>neither</td></tr>\n",
       "\t<tr><td>NA                             </td><td>neither</td></tr>\n",
       "\t<tr><td>NA                             </td><td>neither</td></tr>\n",
       "\t<tr><td>NA                             </td><td>neither</td></tr>\n",
       "\t<tr><td>NA                             </td><td>neither</td></tr>\n",
       "\t<tr><td>NA                             </td><td>neither</td></tr>\n",
       "\t<tr><td>NA                             </td><td>neither</td></tr>\n",
       "\t<tr><td>NA                             </td><td>neither</td></tr>\n",
       "\t<tr><td>NA                             </td><td>neither</td></tr>\n",
       "</tbody>\n",
       "</table>\n"
      ],
      "text/latex": [
       "A tibble: 2860 x 2\n",
       "\\begin{tabular}{r|ll}\n",
       " WorkToolsSelect & language\\_preference\\\\\n",
       " <chr> & <chr>\\\\\n",
       "\\hline\n",
       "\t SQL                                                                                                                     & neither\\\\\n",
       "\t Amazon Web services,Java,Jupyter notebooks,MATLAB/Octave,Microsoft Excel Data Mining,SAS Enterprise Miner,Spark / MLlib & neither\\\\\n",
       "\t IBM Cognos,NoSQL,Unix shell / awk                                                                                       & neither\\\\\n",
       "\t NA                                                                                                                      & neither\\\\\n",
       "\t Amazon Machine Learning                                                                                                 & neither\\\\\n",
       "\t IBM Cognos,IBM SPSS Modeler,IBM SPSS Statistics,Perl,SQL                                                                & neither\\\\\n",
       "\t SQL                                                                                                                     & neither\\\\\n",
       "\t NoSQL,Perl,SQL,Unix shell / awk,Other                                                                                   & neither\\\\\n",
       "\t Julia,Other                                                                                                             & neither\\\\\n",
       "\t Amazon Machine Learning,Amazon Web services,SQL                                                                         & neither\\\\\n",
       "\t Amazon Web services,Cloudera,SAS Base,SAS Enterprise Miner,SAS JMP,SQL,Other,Other                                      & neither\\\\\n",
       "\t KNIME (free version),Unix shell / awk                                                                                   & neither\\\\\n",
       "\t IBM SPSS Modeler,IBM SPSS Statistics,Java,Microsoft Excel Data Mining,SQL                                               & neither\\\\\n",
       "\t NA                                                                                                                      & neither\\\\\n",
       "\t Minitab                                                                                                                 & neither\\\\\n",
       "\t Other                                                                                                                   & neither\\\\\n",
       "\t Jupyter notebooks,TensorFlow,Unix shell / awk                                                                           & neither\\\\\n",
       "\t Microsoft Excel Data Mining,SQL                                                                                         & neither\\\\\n",
       "\t Amazon Web services                                                                                                     & neither\\\\\n",
       "\t Microsoft Azure Machine Learning,Microsoft Excel Data Mining,SQL                                                        & neither\\\\\n",
       "\t Other                                                                                                                   & neither\\\\\n",
       "\t Hadoop/Hive/Pig,Jupyter notebooks,Microsoft SQL Server Data Mining,SAS Base,SAS Enterprise Miner,SQL,Tableau            & neither\\\\\n",
       "\t Microsoft Azure Machine Learning,NoSQL,SQL,Tableau                                                                      & neither\\\\\n",
       "\t Cloudera,Hadoop/Hive/Pig,Java,Spark / MLlib                                                                             & neither\\\\\n",
       "\t Google Cloud Compute                                                                                                    & neither\\\\\n",
       "\t SQL                                                                                                                     & neither\\\\\n",
       "\t Amazon Web services,Cloudera,MATLAB/Octave,NoSQL,SQL,TensorFlow                                                         & neither\\\\\n",
       "\t C/C++,MATLAB/Octave                                                                                                     & neither\\\\\n",
       "\t Java,MATLAB/Octave,SQL,Other,Other                                                                                      & neither\\\\\n",
       "\t SAS Base                                                                                                                & neither\\\\\n",
       "\t ... & ...\\\\\n",
       "\t NA                              & neither\\\\\n",
       "\t NA                              & neither\\\\\n",
       "\t NA                              & neither\\\\\n",
       "\t NA                              & neither\\\\\n",
       "\t NA                              & neither\\\\\n",
       "\t Microsoft Excel Data Mining,SQL & neither\\\\\n",
       "\t NA                              & neither\\\\\n",
       "\t NA                              & neither\\\\\n",
       "\t NA                              & neither\\\\\n",
       "\t NA                              & neither\\\\\n",
       "\t NA                              & neither\\\\\n",
       "\t IBM Cognos,IBM SPSS Modeler     & neither\\\\\n",
       "\t NA                              & neither\\\\\n",
       "\t NA                              & neither\\\\\n",
       "\t NA                              & neither\\\\\n",
       "\t NA                              & neither\\\\\n",
       "\t NA                              & neither\\\\\n",
       "\t NA                              & neither\\\\\n",
       "\t NA                              & neither\\\\\n",
       "\t NA                              & neither\\\\\n",
       "\t NA                              & neither\\\\\n",
       "\t NA                              & neither\\\\\n",
       "\t NA                              & neither\\\\\n",
       "\t NA                              & neither\\\\\n",
       "\t NA                              & neither\\\\\n",
       "\t NA                              & neither\\\\\n",
       "\t NA                              & neither\\\\\n",
       "\t NA                              & neither\\\\\n",
       "\t NA                              & neither\\\\\n",
       "\t NA                              & neither\\\\\n",
       "\\end{tabular}\n"
      ],
      "text/markdown": [
       "\n",
       "A tibble: 2860 x 2\n",
       "\n",
       "| WorkToolsSelect &lt;chr&gt; | language_preference &lt;chr&gt; |\n",
       "|---|---|\n",
       "| SQL                                                                                                                     | neither |\n",
       "| Amazon Web services,Java,Jupyter notebooks,MATLAB/Octave,Microsoft Excel Data Mining,SAS Enterprise Miner,Spark / MLlib | neither |\n",
       "| IBM Cognos,NoSQL,Unix shell / awk                                                                                       | neither |\n",
       "| NA                                                                                                                      | neither |\n",
       "| Amazon Machine Learning                                                                                                 | neither |\n",
       "| IBM Cognos,IBM SPSS Modeler,IBM SPSS Statistics,Perl,SQL                                                                | neither |\n",
       "| SQL                                                                                                                     | neither |\n",
       "| NoSQL,Perl,SQL,Unix shell / awk,Other                                                                                   | neither |\n",
       "| Julia,Other                                                                                                             | neither |\n",
       "| Amazon Machine Learning,Amazon Web services,SQL                                                                         | neither |\n",
       "| Amazon Web services,Cloudera,SAS Base,SAS Enterprise Miner,SAS JMP,SQL,Other,Other                                      | neither |\n",
       "| KNIME (free version),Unix shell / awk                                                                                   | neither |\n",
       "| IBM SPSS Modeler,IBM SPSS Statistics,Java,Microsoft Excel Data Mining,SQL                                               | neither |\n",
       "| NA                                                                                                                      | neither |\n",
       "| Minitab                                                                                                                 | neither |\n",
       "| Other                                                                                                                   | neither |\n",
       "| Jupyter notebooks,TensorFlow,Unix shell / awk                                                                           | neither |\n",
       "| Microsoft Excel Data Mining,SQL                                                                                         | neither |\n",
       "| Amazon Web services                                                                                                     | neither |\n",
       "| Microsoft Azure Machine Learning,Microsoft Excel Data Mining,SQL                                                        | neither |\n",
       "| Other                                                                                                                   | neither |\n",
       "| Hadoop/Hive/Pig,Jupyter notebooks,Microsoft SQL Server Data Mining,SAS Base,SAS Enterprise Miner,SQL,Tableau            | neither |\n",
       "| Microsoft Azure Machine Learning,NoSQL,SQL,Tableau                                                                      | neither |\n",
       "| Cloudera,Hadoop/Hive/Pig,Java,Spark / MLlib                                                                             | neither |\n",
       "| Google Cloud Compute                                                                                                    | neither |\n",
       "| SQL                                                                                                                     | neither |\n",
       "| Amazon Web services,Cloudera,MATLAB/Octave,NoSQL,SQL,TensorFlow                                                         | neither |\n",
       "| C/C++,MATLAB/Octave                                                                                                     | neither |\n",
       "| Java,MATLAB/Octave,SQL,Other,Other                                                                                      | neither |\n",
       "| SAS Base                                                                                                                | neither |\n",
       "| ... | ... |\n",
       "| NA                              | neither |\n",
       "| NA                              | neither |\n",
       "| NA                              | neither |\n",
       "| NA                              | neither |\n",
       "| NA                              | neither |\n",
       "| Microsoft Excel Data Mining,SQL | neither |\n",
       "| NA                              | neither |\n",
       "| NA                              | neither |\n",
       "| NA                              | neither |\n",
       "| NA                              | neither |\n",
       "| NA                              | neither |\n",
       "| IBM Cognos,IBM SPSS Modeler     | neither |\n",
       "| NA                              | neither |\n",
       "| NA                              | neither |\n",
       "| NA                              | neither |\n",
       "| NA                              | neither |\n",
       "| NA                              | neither |\n",
       "| NA                              | neither |\n",
       "| NA                              | neither |\n",
       "| NA                              | neither |\n",
       "| NA                              | neither |\n",
       "| NA                              | neither |\n",
       "| NA                              | neither |\n",
       "| NA                              | neither |\n",
       "| NA                              | neither |\n",
       "| NA                              | neither |\n",
       "| NA                              | neither |\n",
       "| NA                              | neither |\n",
       "| NA                              | neither |\n",
       "| NA                              | neither |\n",
       "\n"
      ],
      "text/plain": [
       "     WorkToolsSelect                                                                                                        \n",
       "1    SQL                                                                                                                    \n",
       "2    Amazon Web services,Java,Jupyter notebooks,MATLAB/Octave,Microsoft Excel Data Mining,SAS Enterprise Miner,Spark / MLlib\n",
       "3    IBM Cognos,NoSQL,Unix shell / awk                                                                                      \n",
       "4    NA                                                                                                                     \n",
       "5    Amazon Machine Learning                                                                                                \n",
       "6    IBM Cognos,IBM SPSS Modeler,IBM SPSS Statistics,Perl,SQL                                                               \n",
       "7    SQL                                                                                                                    \n",
       "8    NoSQL,Perl,SQL,Unix shell / awk,Other                                                                                  \n",
       "9    Julia,Other                                                                                                            \n",
       "10   Amazon Machine Learning,Amazon Web services,SQL                                                                        \n",
       "11   Amazon Web services,Cloudera,SAS Base,SAS Enterprise Miner,SAS JMP,SQL,Other,Other                                     \n",
       "12   KNIME (free version),Unix shell / awk                                                                                  \n",
       "13   IBM SPSS Modeler,IBM SPSS Statistics,Java,Microsoft Excel Data Mining,SQL                                              \n",
       "14   NA                                                                                                                     \n",
       "15   Minitab                                                                                                                \n",
       "16   Other                                                                                                                  \n",
       "17   Jupyter notebooks,TensorFlow,Unix shell / awk                                                                          \n",
       "18   Microsoft Excel Data Mining,SQL                                                                                        \n",
       "19   Amazon Web services                                                                                                    \n",
       "20   Microsoft Azure Machine Learning,Microsoft Excel Data Mining,SQL                                                       \n",
       "21   Other                                                                                                                  \n",
       "22   Hadoop/Hive/Pig,Jupyter notebooks,Microsoft SQL Server Data Mining,SAS Base,SAS Enterprise Miner,SQL,Tableau           \n",
       "23   Microsoft Azure Machine Learning,NoSQL,SQL,Tableau                                                                     \n",
       "24   Cloudera,Hadoop/Hive/Pig,Java,Spark / MLlib                                                                            \n",
       "25   Google Cloud Compute                                                                                                   \n",
       "26   SQL                                                                                                                    \n",
       "27   Amazon Web services,Cloudera,MATLAB/Octave,NoSQL,SQL,TensorFlow                                                        \n",
       "28   C/C++,MATLAB/Octave                                                                                                    \n",
       "29   Java,MATLAB/Octave,SQL,Other,Other                                                                                     \n",
       "30   SAS Base                                                                                                               \n",
       "...  ...                                                                                                                    \n",
       "2831 NA                                                                                                                     \n",
       "2832 NA                                                                                                                     \n",
       "2833 NA                                                                                                                     \n",
       "2834 NA                                                                                                                     \n",
       "2835 NA                                                                                                                     \n",
       "2836 Microsoft Excel Data Mining,SQL                                                                                        \n",
       "2837 NA                                                                                                                     \n",
       "2838 NA                                                                                                                     \n",
       "2839 NA                                                                                                                     \n",
       "2840 NA                                                                                                                     \n",
       "2841 NA                                                                                                                     \n",
       "2842 IBM Cognos,IBM SPSS Modeler                                                                                            \n",
       "2843 NA                                                                                                                     \n",
       "2844 NA                                                                                                                     \n",
       "2845 NA                                                                                                                     \n",
       "2846 NA                                                                                                                     \n",
       "2847 NA                                                                                                                     \n",
       "2848 NA                                                                                                                     \n",
       "2849 NA                                                                                                                     \n",
       "2850 NA                                                                                                                     \n",
       "2851 NA                                                                                                                     \n",
       "2852 NA                                                                                                                     \n",
       "2853 NA                                                                                                                     \n",
       "2854 NA                                                                                                                     \n",
       "2855 NA                                                                                                                     \n",
       "2856 NA                                                                                                                     \n",
       "2857 NA                                                                                                                     \n",
       "2858 NA                                                                                                                     \n",
       "2859 NA                                                                                                                     \n",
       "2860 NA                                                                                                                     \n",
       "     language_preference\n",
       "1    neither            \n",
       "2    neither            \n",
       "3    neither            \n",
       "4    neither            \n",
       "5    neither            \n",
       "6    neither            \n",
       "7    neither            \n",
       "8    neither            \n",
       "9    neither            \n",
       "10   neither            \n",
       "11   neither            \n",
       "12   neither            \n",
       "13   neither            \n",
       "14   neither            \n",
       "15   neither            \n",
       "16   neither            \n",
       "17   neither            \n",
       "18   neither            \n",
       "19   neither            \n",
       "20   neither            \n",
       "21   neither            \n",
       "22   neither            \n",
       "23   neither            \n",
       "24   neither            \n",
       "25   neither            \n",
       "26   neither            \n",
       "27   neither            \n",
       "28   neither            \n",
       "29   neither            \n",
       "30   neither            \n",
       "...  ...                \n",
       "2831 neither            \n",
       "2832 neither            \n",
       "2833 neither            \n",
       "2834 neither            \n",
       "2835 neither            \n",
       "2836 neither            \n",
       "2837 neither            \n",
       "2838 neither            \n",
       "2839 neither            \n",
       "2840 neither            \n",
       "2841 neither            \n",
       "2842 neither            \n",
       "2843 neither            \n",
       "2844 neither            \n",
       "2845 neither            \n",
       "2846 neither            \n",
       "2847 neither            \n",
       "2848 neither            \n",
       "2849 neither            \n",
       "2850 neither            \n",
       "2851 neither            \n",
       "2852 neither            \n",
       "2853 neither            \n",
       "2854 neither            \n",
       "2855 neither            \n",
       "2856 neither            \n",
       "2857 neither            \n",
       "2858 neither            \n",
       "2859 neither            \n",
       "2860 neither            "
      ]
     },
     "metadata": {},
     "output_type": "display_data"
    }
   ],
   "source": [
    "# Create a new column called language preference\n",
    "debate_tools <- responses  %>% \n",
    "   mutate(language_preference = case_when(\n",
    "       str_detect(WorkToolsSelect, \"R\") & str_detect(WorkToolsSelect, \"Python\", negate = TRUE) ~ \"R\",\n",
    "       str_detect(WorkToolsSelect, \"R\", negate = TRUE) & str_detect(WorkToolsSelect, \"Python\") ~ \"Python\",\n",
    "       str_detect(WorkToolsSelect, \"R\") & str_detect(WorkToolsSelect, \"Python\") ~ \"both\",\n",
    "       TRUE ~ \"neither\"\n",
    "   ))\n",
    "\n",
    "# Print the first 6 rows\n",
    "# head(debate_tools, 6)\n",
    "debate_tools %>%\n",
    "    select(WorkToolsSelect, language_preference) %>%\n",
    "    filter(language_preference == \"neither\")"
   ]
  },
  {
   "cell_type": "markdown",
   "metadata": {
    "dc": {
     "key": "40"
    },
    "deletable": false,
    "editable": false,
    "run_control": {
     "frozen": true
    },
    "tags": [
     "context"
    ]
   },
   "source": [
    "## 6. Plotting R vs Python users\n",
    "<p>Now we just need to take a closer look at how many respondents use R, Python, and both!</p>"
   ]
  },
  {
   "cell_type": "code",
   "execution_count": 39,
   "metadata": {
    "dc": {
     "key": "40"
    },
    "tags": [
     "sample_code"
    ]
   },
   "outputs": [
    {
     "name": "stderr",
     "output_type": "stream",
     "text": [
      "`summarise()` ungrouping output (override with `.groups` argument)\n"
     ]
    },
    {
     "data": {
      "image/png": "[encoded data removed]",
      "text/plain": [
       "plot without title"
      ]
     },
     "metadata": {},
     "output_type": "display_data"
    }
   ],
   "source": [
    "# Group by language preference, calculate number of responses, and remove \"neither\"\n",
    "debate_plot <- debate_tools  %>% \n",
    "   group_by(language_preference)  %>% \n",
    "   summarise(count = n()) %>%\n",
    "   filter(language_preference != \"neither\")\n",
    "\n",
    "# Create a bar chart\n",
    "ggplot(debate_plot, aes(fct_reorder(language_preference, count, .desc = TRUE), count)) + \n",
    "    geom_bar(stat = \"identity\")"
   ]
  },
  {
   "cell_type": "markdown",
   "metadata": {
    "dc": {
     "key": "47"
    },
    "deletable": false,
    "editable": false,
    "run_control": {
     "frozen": true
    },
    "tags": [
     "context"
    ]
   },
   "source": [
    "## 7. Language recommendations\n",
    "<p>It looks like the largest group of professionals program in both Python and R. But what happens when they are asked which language they recommend to new learners? Do R lovers always recommend R?</p>"
   ]
  },
  {
   "cell_type": "code",
   "execution_count": 41,
   "metadata": {
    "dc": {
     "key": "47"
    },
    "tags": [
     "sample_code"
    ]
   },
   "outputs": [
    {
     "data": {
      "text/html": [
       "<table>\n",
       "<caption>A grouped_df: 6 x 4</caption>\n",
       "<thead>\n",
       "\t<tr><th scope=col>language_preference</th><th scope=col>LanguageRecommendationSelect</th><th scope=col>count</th><th scope=col>row_count</th></tr>\n",
       "\t<tr><th scope=col>&lt;chr&gt;</th><th scope=col>&lt;chr&gt;</th><th scope=col>&lt;int&gt;</th><th scope=col>&lt;int&gt;</th></tr>\n",
       "</thead>\n",
       "<tbody>\n",
       "\t<tr><td>both   </td><td>NA    </td><td>591</td><td>3</td></tr>\n",
       "\t<tr><td>both   </td><td>SQL   </td><td>108</td><td>4</td></tr>\n",
       "\t<tr><td>neither</td><td>NA    </td><td>213</td><td>1</td></tr>\n",
       "\t<tr><td>neither</td><td>Python</td><td>169</td><td>2</td></tr>\n",
       "\t<tr><td>neither</td><td>R     </td><td> 78</td><td>3</td></tr>\n",
       "\t<tr><td>neither</td><td>SQL   </td><td> 48</td><td>4</td></tr>\n",
       "</tbody>\n",
       "</table>\n"
      ],
      "text/latex": [
       "A grouped_df: 6 x 4\n",
       "\\begin{tabular}{r|llll}\n",
       " language\\_preference & LanguageRecommendationSelect & count & row\\_count\\\\\n",
       " <chr> & <chr> & <int> & <int>\\\\\n",
       "\\hline\n",
       "\t both    & NA     & 591 & 3\\\\\n",
       "\t both    & SQL    & 108 & 4\\\\\n",
       "\t neither & NA     & 213 & 1\\\\\n",
       "\t neither & Python & 169 & 2\\\\\n",
       "\t neither & R      &  78 & 3\\\\\n",
       "\t neither & SQL    &  48 & 4\\\\\n",
       "\\end{tabular}\n"
      ],
      "text/markdown": [
       "\n",
       "A grouped_df: 6 x 4\n",
       "\n",
       "| language_preference &lt;chr&gt; | LanguageRecommendationSelect &lt;chr&gt; | count &lt;int&gt; | row_count &lt;int&gt; |\n",
       "|---|---|---|---|\n",
       "| both    | NA     | 591 | 3 |\n",
       "| both    | SQL    | 108 | 4 |\n",
       "| neither | NA     | 213 | 1 |\n",
       "| neither | Python | 169 | 2 |\n",
       "| neither | R      |  78 | 3 |\n",
       "| neither | SQL    |  48 | 4 |\n",
       "\n"
      ],
      "text/plain": [
       "  language_preference LanguageRecommendationSelect count row_count\n",
       "1 both                NA                           591   3        \n",
       "2 both                SQL                          108   4        \n",
       "3 neither             NA                           213   1        \n",
       "4 neither             Python                       169   2        \n",
       "5 neither             R                             78   3        \n",
       "6 neither             SQL                           48   4        "
      ]
     },
     "metadata": {},
     "output_type": "display_data"
    }
   ],
   "source": [
    "# Group by, summarise, arrange, mutate, and filter\n",
    "recommendations <- debate_tools  %>% \n",
    "    group_by(language_preference, LanguageRecommendationSelect)  %>% \n",
    "    summarise(count = n(), .groups = \"drop_last\")  %>% \n",
    "    arrange(desc(count), .by_group = TRUE) %>%\n",
    "    mutate(row_count = row_number()) %>%\n",
    "    filter(row_count <= 4 & !is.na(language_preference))\n",
    "\n",
    "tail(recommendations, 6)"
   ]
  },
  {
   "cell_type": "markdown",
   "metadata": {
    "dc": {
     "key": "54"
    },
    "deletable": false,
    "editable": false,
    "run_control": {
     "frozen": true
    },
    "tags": [
     "context"
    ]
   },
   "source": [
    "## 8. The most recommended language by the language used\n",
    "<p>Just one thing left. Let's graphically determine which languages are most recommended based on the language that a person uses.</p>"
   ]
  },
  {
   "cell_type": "code",
   "execution_count": 43,
   "metadata": {
    "dc": {
     "key": "54"
    },
    "tags": [
     "sample_code"
    ]
   },
   "outputs": [
    {
     "data": {
      "image/png": "[encoded data removed]",
      "text/plain": [
       "plot without title"
      ]
     },
     "metadata": {},
     "output_type": "display_data"
    }
   ],
   "source": [
    "# Create a faceted bar plot\n",
    "ggplot(recommendations, aes(LanguageRecommendationSelect, count)) +\n",
    "    geom_bar(stat = \"identity\") +\n",
    "    facet_wrap(~language_preference)"
   ]
  },
  {
   "cell_type": "markdown",
   "metadata": {
    "dc": {
     "key": "61"
    },
    "deletable": false,
    "editable": false,
    "run_control": {
     "frozen": true
    },
    "tags": [
     "context"
    ]
   },
   "source": [
    "## 9. The moral of the story\n",
    "<p>So we've made it to the end. We've found that Python is the most popular language used among Kaggle data scientists, but R users aren't far behind. And while Python users may highly recommend that new learners learn Python, would R users find the following statement <code>TRUE</code> or <code>FALSE</code>? </p>"
   ]
  },
  {
   "cell_type": "code",
   "execution_count": 45,
   "metadata": {
    "collapsed": true,
    "dc": {
     "key": "61"
    },
    "tags": [
     "sample_code"
    ]
   },
   "outputs": [],
   "source": [
    "# Would R users find this statement TRUE or FALSE?\n",
    "R_is_number_one = TRUE"
   ]
  }
 ],
 "metadata": {
  "kernelspec": {
   "display_name": "R",
   "language": "R",
   "name": "ir"
  },
  "language_info": {
   "codemirror_mode": "r",
   "file_extension": ".r",
   "mimetype": "text/x-r-source",
   "name": "R",
   "pygments_lexer": "r",
   "version": "4.2.0"
  }
 },
 "nbformat": 4,
 "nbformat_minor": 2
}
